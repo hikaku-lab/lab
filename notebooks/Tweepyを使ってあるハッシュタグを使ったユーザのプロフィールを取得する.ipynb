{
 "cells": [
  {
   "cell_type": "code",
   "execution_count": 1,
   "id": "73585a14-0f1a-4fdd-ad1c-8846666e035b",
   "metadata": {},
   "outputs": [
    {
     "name": "stdout",
     "output_type": "stream",
     "text": [
      "Collecting tweepy\n",
      "  Downloading tweepy-4.10.0-py3-none-any.whl (94 kB)\n",
      "\u001b[2K     \u001b[90m━━━━━━━━━━━━━━━━━━━━━━━━━━━━━━━━━━━━━━━━\u001b[0m \u001b[32m94.4/94.4 KB\u001b[0m \u001b[31m1.0 MB/s\u001b[0m eta \u001b[36m0:00:00\u001b[0ma \u001b[36m0:00:01\u001b[0m\n",
      "\u001b[?25hCollecting python-dotenv\n",
      "  Downloading python_dotenv-0.20.0-py3-none-any.whl (17 kB)\n",
      "Collecting japanize_matplotlib\n",
      "  Downloading japanize-matplotlib-1.1.3.tar.gz (4.1 MB)\n",
      "\u001b[2K     \u001b[90m━━━━━━━━━━━━━━━━━━━━━━━━━━━━━━━━━━━━━━━━\u001b[0m \u001b[32m4.1/4.1 MB\u001b[0m \u001b[31m5.0 MB/s\u001b[0m eta \u001b[36m0:00:00\u001b[0m00:01\u001b[0m00:01\u001b[0m\n",
      "\u001b[?25h  Preparing metadata (setup.py) ... \u001b[?25ldone\n",
      "\u001b[?25hRequirement already satisfied: oauthlib<4,>=3.2.0 in /opt/conda/lib/python3.9/site-packages (from tweepy) (3.2.0)\n",
      "Collecting requests-oauthlib<2,>=1.2.0\n",
      "  Downloading requests_oauthlib-1.3.1-py2.py3-none-any.whl (23 kB)\n",
      "Requirement already satisfied: requests<3,>=2.27.0 in /opt/conda/lib/python3.9/site-packages (from tweepy) (2.27.1)\n",
      "Requirement already satisfied: matplotlib in /opt/conda/lib/python3.9/site-packages (from japanize_matplotlib) (3.5.1)\n",
      "Requirement already satisfied: charset-normalizer~=2.0.0 in /opt/conda/lib/python3.9/site-packages (from requests<3,>=2.27.0->tweepy) (2.0.12)\n",
      "Requirement already satisfied: urllib3<1.27,>=1.21.1 in /opt/conda/lib/python3.9/site-packages (from requests<3,>=2.27.0->tweepy) (1.26.8)\n",
      "Requirement already satisfied: certifi>=2017.4.17 in /opt/conda/lib/python3.9/site-packages (from requests<3,>=2.27.0->tweepy) (2021.10.8)\n",
      "Requirement already satisfied: idna<4,>=2.5 in /opt/conda/lib/python3.9/site-packages (from requests<3,>=2.27.0->tweepy) (3.3)\n",
      "Requirement already satisfied: pillow>=6.2.0 in /opt/conda/lib/python3.9/site-packages (from matplotlib->japanize_matplotlib) (9.0.1)\n",
      "Requirement already satisfied: pyparsing>=2.2.1 in /opt/conda/lib/python3.9/site-packages (from matplotlib->japanize_matplotlib) (3.0.7)\n",
      "Requirement already satisfied: packaging>=20.0 in /opt/conda/lib/python3.9/site-packages (from matplotlib->japanize_matplotlib) (21.3)\n",
      "Requirement already satisfied: cycler>=0.10 in /opt/conda/lib/python3.9/site-packages (from matplotlib->japanize_matplotlib) (0.11.0)\n",
      "Requirement already satisfied: kiwisolver>=1.0.1 in /opt/conda/lib/python3.9/site-packages (from matplotlib->japanize_matplotlib) (1.4.0)\n",
      "Requirement already satisfied: fonttools>=4.22.0 in /opt/conda/lib/python3.9/site-packages (from matplotlib->japanize_matplotlib) (4.31.2)\n",
      "Requirement already satisfied: python-dateutil>=2.7 in /opt/conda/lib/python3.9/site-packages (from matplotlib->japanize_matplotlib) (2.8.2)\n",
      "Requirement already satisfied: numpy>=1.17 in /opt/conda/lib/python3.9/site-packages (from matplotlib->japanize_matplotlib) (1.21.5)\n",
      "Requirement already satisfied: six>=1.5 in /opt/conda/lib/python3.9/site-packages (from python-dateutil>=2.7->matplotlib->japanize_matplotlib) (1.16.0)\n",
      "Building wheels for collected packages: japanize_matplotlib\n",
      "  Building wheel for japanize_matplotlib (setup.py) ... \u001b[?25ldone\n",
      "\u001b[?25h  Created wheel for japanize_matplotlib: filename=japanize_matplotlib-1.1.3-py3-none-any.whl size=4120275 sha256=25176d8b17960ea42446746c83a2f18f4aaebf7b7bcc733764ce439c85554041\n",
      "  Stored in directory: /home/jovyan/.cache/pip/wheels/91/8f/c2/83055ad0c9591b0a094730aa7cb2cc12fedacbcd2241baf534\n",
      "Successfully built japanize_matplotlib\n",
      "Installing collected packages: python-dotenv, requests-oauthlib, tweepy, japanize_matplotlib\n",
      "Successfully installed japanize_matplotlib-1.1.3 python-dotenv-0.20.0 requests-oauthlib-1.3.1 tweepy-4.10.0\n"
     ]
    }
   ],
   "source": [
    "!pip install tweepy python-dotenv japanize_matplotlib wordcloud\n",
    "#https://fonts.google.com/noto/specimen/Noto+Sans+JPをダウンロードしておく\n"
   ]
  },
  {
   "cell_type": "code",
   "execution_count": 124,
   "id": "832e30b6-e8aa-4172-b2db-89a0018ea5b4",
   "metadata": {},
   "outputs": [
    {
     "data": {
      "text/plain": [
       "True"
      ]
     },
     "execution_count": 124,
     "metadata": {},
     "output_type": "execute_result"
    }
   ],
   "source": [
    "from dotenv import load_dotenv\n",
    "import pickle\n",
    "load_dotenv()"
   ]
  },
  {
   "cell_type": "code",
   "execution_count": 125,
   "id": "7aa49fcb-2ad5-4bce-919a-dead3ae9208d",
   "metadata": {},
   "outputs": [],
   "source": [
    "import tweepy\n",
    "import os\n",
    "\n",
    "client = tweepy.Client(bearer_token=os.getenv(\"bearer_token\"),\n",
    "                    consumer_key=os.getenv(\"api_key\"),\n",
    "                    consumer_secret = os.getenv(\"api_key_secret\"),\n",
    "                    access_token=os.getenv(\"access_token\"), \n",
    "                    access_token_secret=os.getenv(\"access_token_secret\"),\n",
    "                    wait_on_rate_limit=True)\n"
   ]
  },
  {
   "cell_type": "code",
   "execution_count": 155,
   "id": "a7bf42b9-67e7-4797-941a-2cbeecb35dc6",
   "metadata": {},
   "outputs": [],
   "source": [
    "import pandas as pd\n",
    "def get_df(client, target_hash_tag_string):\n",
    "    query = f'lang:ja #{target_hash_tag_string} -is:retweet'\n",
    "    print(query)\n",
    "\n",
    "    tweets = tweepy.Paginator(client.search_recent_tweets, \n",
    "                                  query=query,\n",
    "                                  tweet_fields=['author_id'],\n",
    "                                  max_results=100).flatten(limit=1000)\n",
    "    users = []\n",
    "    for tweet in tweets:\n",
    "        users.append(tweet.author_id)\n",
    "    \n",
    "    unique_users = list(set(users))\n",
    "    print(len(unique_users))\n",
    "    \n",
    "    ing_df = []\n",
    "    num_iter = int(len(unique_users)/100) + 1\n",
    "    for i in range(num_iter):\n",
    "        response = client.get_users(ids=unique_users[i*100:(i+1)*100], user_fields=['description', 'public_metrics'])\n",
    "        for user_detail in response.data:\n",
    "            ing_df.append({\n",
    "            'user_id': user_detail.id,\n",
    "            'user_name': user_detail.name,\n",
    "            'description': user_detail.description,\n",
    "            'followers': user_detail.public_metrics['followers_count'], \n",
    "            'following': user_detail.public_metrics['following_count'], \n",
    "            'tweet': user_detail.public_metrics['tweet_count'], \n",
    "            'listed': user_detail.public_metrics['listed_count']\n",
    "        })\n",
    "    df = pd.DataFrame(ing_df)\n",
    "    return df"
   ]
  },
  {
   "cell_type": "code",
   "execution_count": 156,
   "id": "3aafcca7-7f7c-4b64-9760-8b967fc852ab",
   "metadata": {},
   "outputs": [],
   "source": [
    "hash_1 = 'マーケティング'\n",
    "hash_2 = 'データ分析'"
   ]
  },
  {
   "cell_type": "code",
   "execution_count": 157,
   "id": "bc77492b-bc5d-4263-b3d3-b4d26273fd66",
   "metadata": {},
   "outputs": [
    {
     "name": "stdout",
     "output_type": "stream",
     "text": [
      "lang:ja #マーケティング -is:retweet\n",
      "348\n"
     ]
    },
    {
     "data": {
      "text/html": [
       "<div>\n",
       "<style scoped>\n",
       "    .dataframe tbody tr th:only-of-type {\n",
       "        vertical-align: middle;\n",
       "    }\n",
       "\n",
       "    .dataframe tbody tr th {\n",
       "        vertical-align: top;\n",
       "    }\n",
       "\n",
       "    .dataframe thead th {\n",
       "        text-align: right;\n",
       "    }\n",
       "</style>\n",
       "<table border=\"1\" class=\"dataframe\">\n",
       "  <thead>\n",
       "    <tr style=\"text-align: right;\">\n",
       "      <th></th>\n",
       "      <th>user_id</th>\n",
       "      <th>user_name</th>\n",
       "      <th>description</th>\n",
       "      <th>followers</th>\n",
       "      <th>following</th>\n",
       "      <th>tweet</th>\n",
       "      <th>listed</th>\n",
       "    </tr>\n",
       "  </thead>\n",
       "  <tbody>\n",
       "    <tr>\n",
       "      <th>0</th>\n",
       "      <td>1457502561964290048</td>\n",
       "      <td>GDSC Osaka University</td>\n",
       "      <td>Googleの開発技術に興味がある阪大生向けの技術コミュニティです。身近な課題をテクノロジー...</td>\n",
       "      <td>251</td>\n",
       "      <td>379</td>\n",
       "      <td>192</td>\n",
       "      <td>1</td>\n",
       "    </tr>\n",
       "    <tr>\n",
       "      <th>1</th>\n",
       "      <td>1295912964860473344</td>\n",
       "      <td>岩松勇人の部屋@80時間の音声コンテンツを配信中</td>\n",
       "      <td>岩松勇人の頭の中。普通の人間が当たり前に考えている事\\n（スマホ、スーパー、洋服、映画、恋人...</td>\n",
       "      <td>6959</td>\n",
       "      <td>7652</td>\n",
       "      <td>1794</td>\n",
       "      <td>24</td>\n",
       "    </tr>\n",
       "    <tr>\n",
       "      <th>2</th>\n",
       "      <td>1110808220740669440</td>\n",
       "      <td>NoxInfluencer日本公式</td>\n",
       "      <td>ノックスインフルエンサー日本公式アカウント。YouTube、Instagram、TikTok...</td>\n",
       "      <td>181</td>\n",
       "      <td>92</td>\n",
       "      <td>572</td>\n",
       "      <td>1</td>\n",
       "    </tr>\n",
       "    <tr>\n",
       "      <th>3</th>\n",
       "      <td>1530454679829655555</td>\n",
       "      <td>toshi🌻上場企業のWEBマーケター🌻</td>\n",
       "      <td>🌻一部上場企業勤務のWEBマーケター🌻\\n有料級のWEB情報や、なるほどな！\\nとなるような...</td>\n",
       "      <td>9</td>\n",
       "      <td>104</td>\n",
       "      <td>5</td>\n",
       "      <td>0</td>\n",
       "    </tr>\n",
       "    <tr>\n",
       "      <th>4</th>\n",
       "      <td>1295153213507739649</td>\n",
       "      <td>前原@訪問看護・介護の集客に特化したコンサルタント</td>\n",
       "      <td>訪問看護と訪問介護の集客に特化した経営コンサルタント。零細から上場クライアントと幅広く担当。...</td>\n",
       "      <td>1164</td>\n",
       "      <td>779</td>\n",
       "      <td>1499</td>\n",
       "      <td>9</td>\n",
       "    </tr>\n",
       "  </tbody>\n",
       "</table>\n",
       "</div>"
      ],
      "text/plain": [
       "               user_id                  user_name  \\\n",
       "0  1457502561964290048      GDSC Osaka University   \n",
       "1  1295912964860473344   岩松勇人の部屋@80時間の音声コンテンツを配信中   \n",
       "2  1110808220740669440          NoxInfluencer日本公式   \n",
       "3  1530454679829655555       toshi🌻上場企業のWEBマーケター🌻   \n",
       "4  1295153213507739649  前原@訪問看護・介護の集客に特化したコンサルタント   \n",
       "\n",
       "                                         description  followers  following  \\\n",
       "0  Googleの開発技術に興味がある阪大生向けの技術コミュニティです。身近な課題をテクノロジー...        251        379   \n",
       "1  岩松勇人の頭の中。普通の人間が当たり前に考えている事\\n（スマホ、スーパー、洋服、映画、恋人...       6959       7652   \n",
       "2  ノックスインフルエンサー日本公式アカウント。YouTube、Instagram、TikTok...        181         92   \n",
       "3  🌻一部上場企業勤務のWEBマーケター🌻\\n有料級のWEB情報や、なるほどな！\\nとなるような...          9        104   \n",
       "4  訪問看護と訪問介護の集客に特化した経営コンサルタント。零細から上場クライアントと幅広く担当。...       1164        779   \n",
       "\n",
       "   tweet  listed  \n",
       "0    192       1  \n",
       "1   1794      24  \n",
       "2    572       1  \n",
       "3      5       0  \n",
       "4   1499       9  "
      ]
     },
     "execution_count": 157,
     "metadata": {},
     "output_type": "execute_result"
    }
   ],
   "source": [
    "df_1 = get_df(client, hash_1)\n",
    "df_1.head()"
   ]
  },
  {
   "cell_type": "code",
   "execution_count": 158,
   "id": "e81f8383-a20f-4b09-bbd3-a627e2d8f096",
   "metadata": {},
   "outputs": [
    {
     "name": "stdout",
     "output_type": "stream",
     "text": [
      "lang:ja #データ分析 -is:retweet\n",
      "81\n"
     ]
    },
    {
     "data": {
      "text/html": [
       "<div>\n",
       "<style scoped>\n",
       "    .dataframe tbody tr th:only-of-type {\n",
       "        vertical-align: middle;\n",
       "    }\n",
       "\n",
       "    .dataframe tbody tr th {\n",
       "        vertical-align: top;\n",
       "    }\n",
       "\n",
       "    .dataframe thead th {\n",
       "        text-align: right;\n",
       "    }\n",
       "</style>\n",
       "<table border=\"1\" class=\"dataframe\">\n",
       "  <thead>\n",
       "    <tr style=\"text-align: right;\">\n",
       "      <th></th>\n",
       "      <th>user_id</th>\n",
       "      <th>user_name</th>\n",
       "      <th>description</th>\n",
       "      <th>followers</th>\n",
       "      <th>following</th>\n",
       "      <th>tweet</th>\n",
       "      <th>listed</th>\n",
       "    </tr>\n",
       "  </thead>\n",
       "  <tbody>\n",
       "    <tr>\n",
       "      <th>0</th>\n",
       "      <td>1349420323771277312</td>\n",
       "      <td>データ競馬倶楽部@6月の回収率211％と好調維持！</td>\n",
       "      <td>Kのデータ競馬倶楽部へようこそ👍データ競馬倶楽部では競馬予想と競馬予想に必要なデータを提供し...</td>\n",
       "      <td>773</td>\n",
       "      <td>10</td>\n",
       "      <td>148</td>\n",
       "      <td>0</td>\n",
       "    </tr>\n",
       "    <tr>\n",
       "      <th>1</th>\n",
       "      <td>1368070074976804865</td>\n",
       "      <td>下トl</td>\n",
       "      <td>小説家になろうやカクヨムなどで気になった小説のレビューやランキングの傾向分析をやっています。</td>\n",
       "      <td>41</td>\n",
       "      <td>65</td>\n",
       "      <td>329</td>\n",
       "      <td>1</td>\n",
       "    </tr>\n",
       "    <tr>\n",
       "      <th>2</th>\n",
       "      <td>1545533950113751042</td>\n",
       "      <td>はやてれお@Python使い</td>\n",
       "      <td>20代の社会人研究者。実務で役立つpythonスキル(https://t.co/mMYd5T...</td>\n",
       "      <td>26</td>\n",
       "      <td>82</td>\n",
       "      <td>5</td>\n",
       "      <td>0</td>\n",
       "    </tr>\n",
       "    <tr>\n",
       "      <th>3</th>\n",
       "      <td>1172738508756094976</td>\n",
       "      <td>TAT@ブログと株で資産形成中</td>\n",
       "      <td>オニールとミネルヴィニの投資手法を日本株に応用中 アメリカ株は長期投資 Pythonで情報収...</td>\n",
       "      <td>2199</td>\n",
       "      <td>28</td>\n",
       "      <td>33499</td>\n",
       "      <td>28</td>\n",
       "    </tr>\n",
       "    <tr>\n",
       "      <th>4</th>\n",
       "      <td>1413027794733338626</td>\n",
       "      <td>TomoCode | Pythonでデータ分析</td>\n",
       "      <td>#データ分析 や #機械学習 が身につくためのツイートをしてるよ〜/ 僕をフォローして一緒に...</td>\n",
       "      <td>1151</td>\n",
       "      <td>777</td>\n",
       "      <td>522</td>\n",
       "      <td>4</td>\n",
       "    </tr>\n",
       "  </tbody>\n",
       "</table>\n",
       "</div>"
      ],
      "text/plain": [
       "               user_id                  user_name  \\\n",
       "0  1349420323771277312  データ競馬倶楽部@6月の回収率211％と好調維持！   \n",
       "1  1368070074976804865                        下トl   \n",
       "2  1545533950113751042             はやてれお@Python使い   \n",
       "3  1172738508756094976            TAT@ブログと株で資産形成中   \n",
       "4  1413027794733338626    TomoCode | Pythonでデータ分析   \n",
       "\n",
       "                                         description  followers  following  \\\n",
       "0  Kのデータ競馬倶楽部へようこそ👍データ競馬倶楽部では競馬予想と競馬予想に必要なデータを提供し...        773         10   \n",
       "1     小説家になろうやカクヨムなどで気になった小説のレビューやランキングの傾向分析をやっています。         41         65   \n",
       "2  20代の社会人研究者。実務で役立つpythonスキル(https://t.co/mMYd5T...         26         82   \n",
       "3  オニールとミネルヴィニの投資手法を日本株に応用中 アメリカ株は長期投資 Pythonで情報収...       2199         28   \n",
       "4  #データ分析 や #機械学習 が身につくためのツイートをしてるよ〜/ 僕をフォローして一緒に...       1151        777   \n",
       "\n",
       "   tweet  listed  \n",
       "0    148       0  \n",
       "1    329       1  \n",
       "2      5       0  \n",
       "3  33499      28  \n",
       "4    522       4  "
      ]
     },
     "execution_count": 158,
     "metadata": {},
     "output_type": "execute_result"
    }
   ],
   "source": [
    "df_2 = get_df(client, hash_2)\n",
    "df_2.head()"
   ]
  },
  {
   "cell_type": "code",
   "execution_count": 159,
   "id": "8b2aab06-7023-4d79-b9ad-dcc20dbe2364",
   "metadata": {},
   "outputs": [],
   "source": [
    "from matplotlib import pyplot as plt\n",
    "import seaborn as sns\n",
    "import japanize_matplotlib\n",
    "\n",
    "%config InlineBackend.figure_formats = {'png', 'retina'}"
   ]
  },
  {
   "cell_type": "code",
   "execution_count": 169,
   "id": "340df2bb-42ea-47ca-9955-0bae24121822",
   "metadata": {},
   "outputs": [
    {
     "data": {
      "text/plain": [
       "<matplotlib.legend.Legend at 0x7f2c0cf92190>"
      ]
     },
     "execution_count": 169,
     "metadata": {},
     "output_type": "execute_result"
    },
    {
     "data": {
      "image/png": "[encoded data removed]",
      "text/plain": [
       "<Figure size 936x432 with 3 Axes>"
      ]
     },
     "metadata": {
      "image/png": {
       "height": 377,
       "width": 780
      },
      "needs_background": "light"
     },
     "output_type": "display_data"
    }
   ],
   "source": [
    "fig = plt.figure(figsize=(13, 6))\n",
    "\n",
    "ax = fig.add_subplot(1, 3, 1)\n",
    "sns.ecdfplot(x=\"followers\", data=df_1, ax=ax, label=hash_1, alpha=0.5, lw=2)\n",
    "sns.ecdfplot(x=\"followers\", data=df_2, ax=ax, label=hash_2, alpha=0.5, lw=2)\n",
    "ax.set(xscale='log', xlabel='フォローされている数')\n",
    "\n",
    "ax = fig.add_subplot(1, 3, 2)\n",
    "sns.ecdfplot(x=\"following\", data=df_1, ax=ax, label=hash_1, alpha=0.5, lw=2)\n",
    "sns.ecdfplot(x=\"following\", data=df_2, ax=ax, label=hash_2, alpha=0.5, lw=2)\n",
    "ax.set(xscale='log', xlabel='フォローしている数')\n",
    "\n",
    "ax = fig.add_subplot(1, 3, 3)\n",
    "sns.ecdfplot(x=\"tweet\", data=df_1, ax=ax, label=hash_1, alpha=0.5, lw=2)\n",
    "sns.ecdfplot(x=\"tweet\", data=df_2, ax=ax, label=hash_2, alpha=0.5, lw=2)\n",
    "ax.set(xscale='log', xlabel='tweet数', )\n",
    "\n",
    "plt.legend()"
   ]
  },
  {
   "cell_type": "code",
   "execution_count": 34,
   "id": "b5f3decf-6b28-4de5-a885-328ce95e587a",
   "metadata": {},
   "outputs": [
    {
     "name": "stdout",
     "output_type": "stream",
     "text": [
      "Requirement already satisfied: mecab-python3 in /opt/conda/lib/python3.9/site-packages (1.0.5)\n",
      "Collecting unidic-lite\n",
      "  Downloading unidic-lite-1.0.8.tar.gz (47.4 MB)\n",
      "\u001b[2K     \u001b[90m━━━━━━━━━━━━━━━━━━━━━━━━━━━━━━━━━━━━━━━━\u001b[0m \u001b[32m47.4/47.4 MB\u001b[0m \u001b[31m7.8 MB/s\u001b[0m eta \u001b[36m0:00:00\u001b[0m:00:01\u001b[0m00:01\u001b[0m\n",
      "\u001b[?25h  Preparing metadata (setup.py) ... \u001b[?25ldone\n",
      "\u001b[?25hBuilding wheels for collected packages: unidic-lite\n",
      "  Building wheel for unidic-lite (setup.py) ... \u001b[?25ldone\n",
      "\u001b[?25h  Created wheel for unidic-lite: filename=unidic_lite-1.0.8-py3-none-any.whl size=47658836 sha256=aaf70de1d74e82727ac7e997d07f54eb122f6699facb532f21faf615954c2b04\n",
      "  Stored in directory: /home/jovyan/.cache/pip/wheels/56/9c/4f/2c115e896b4b6c584039ca19de3581d333856782ef108cdc5c\n",
      "Successfully built unidic-lite\n",
      "Installing collected packages: unidic-lite\n",
      "Successfully installed unidic-lite-1.0.8\n"
     ]
    }
   ],
   "source": [
    "!pip install mecab-python3\n",
    "!pip install unidic-lite"
   ]
  },
  {
   "cell_type": "code",
   "execution_count": 161,
   "id": "1213eb16-2d76-444b-8090-386397efdf6f",
   "metadata": {},
   "outputs": [],
   "source": [
    "import MeCab\n",
    "wakati = MeCab.Tagger(\"-Owakati\")"
   ]
  },
  {
   "cell_type": "code",
   "execution_count": 162,
   "id": "54c99760-ca3c-44d4-9770-6977c9ac0121",
   "metadata": {},
   "outputs": [],
   "source": [
    "def extract_word(text, wakati):\n",
    "    targets = ('動詞', '形容詞', '名詞')\n",
    "    node = wakati.parseToNode(text)\n",
    "    words = []\n",
    "    while node:\n",
    "        term = node.surface # 単語\n",
    "        pos = node.feature.split(',')[0] # 品詞\n",
    "        if pos in targets:\n",
    "            words.append(term)\n",
    "        node = node.next\n",
    "    return list(set(words))\n"
   ]
  },
  {
   "cell_type": "code",
   "execution_count": 163,
   "id": "8d7a157c-044d-430e-84dc-9928d26d2396",
   "metadata": {},
   "outputs": [
    {
     "data": {
      "text/plain": [
       "し          198\n",
       "マーケティング    120\n",
       "情報          73\n",
       "発信          70\n",
       "会社          66\n",
       "する          57\n",
       "年           55\n",
       "https       55\n",
       "t           55\n",
       "co          55\n",
       "い           49\n",
       "企業          46\n",
       "公式          43\n",
       "アカウント       43\n",
       "ビジネス        42\n",
       "フォロー        42\n",
       "Web         42\n",
       "1           41\n",
       "人           40\n",
       "株式          37\n",
       "3           37\n",
       "DM          35\n",
       "支援          34\n",
       "こと          34\n",
       "仕事          33\n",
       "事業          31\n",
       "いる          31\n",
       "いき          30\n",
       "ください        30\n",
       "サービス        29\n",
       "Name: description, dtype: int64"
      ]
     },
     "execution_count": 163,
     "metadata": {},
     "output_type": "execute_result"
    }
   ],
   "source": [
    "df_1.description.apply(extract_word, wakati=wakati).explode().value_counts().head(30)"
   ]
  },
  {
   "cell_type": "code",
   "execution_count": 164,
   "id": "ed2dd9c4-2cf6-4580-8393-1622cfbb725c",
   "metadata": {},
   "outputs": [
    {
     "data": {
      "text/plain": [
       "し          46\n",
       "データ        32\n",
       "分析         23\n",
       "情報         19\n",
       "い          17\n",
       "https      16\n",
       "co         16\n",
       "t          16\n",
       "アカウント      13\n",
       "する         12\n",
       "年          12\n",
       "会社         12\n",
       "発信         12\n",
       "公式         11\n",
       "株式         11\n",
       "Python     10\n",
       "いき         10\n",
       "企業          9\n",
       "1           9\n",
       "ください        9\n",
       "2           8\n",
       "IT          8\n",
       "AI          8\n",
       "マーケティング     8\n",
       "いる          7\n",
       "ブログ         7\n",
       "大学          7\n",
       "つい          7\n",
       "エンジニア       7\n",
       "サイエンス       7\n",
       "Name: description, dtype: int64"
      ]
     },
     "execution_count": 164,
     "metadata": {},
     "output_type": "execute_result"
    }
   ],
   "source": [
    "df_2.description.apply(extract_word, wakati=wakati).explode().value_counts().head(30)"
   ]
  },
  {
   "cell_type": "code",
   "execution_count": 62,
   "id": "e7d8749b-cd20-442a-9e48-e5aa0414a202",
   "metadata": {},
   "outputs": [
    {
     "data": {
      "text/plain": [
       "0       [まとめ, https, t, 22, co, hmhaqqkk, 荒野, サイト, You...\n",
       "1       [プログラム, アソシエイト, し, いき, Amazon, あげ, すすめ, フォロー, ...\n",
       "2       [プログラム, アソシエイト, 楽しく, し, ゲーム, 毎日, すごし, Amazon, ...\n",
       "3       [スナイパー, しよう, クエ, し, 6, ゲーム, by, フォト, 楽し, すぎる, ...\n",
       "4       [cora, 思う, プロスピ, rca, 受験, 野球, やっ, ファン, サッカー, 所...\n",
       "                              ...                        \n",
       "1183    [199, o, すん, ミラティブ, ふ, ﾟ, m, ポケモン, バウンティラッシュ, ...\n",
       "1184    [on, sucker, focus, The, when, is, reverse, t,...\n",
       "1185    [DM, 増え, し, 無言, 暇人, w, 話す, フォロワー, 失礼, いい, フォロー...\n",
       "1186     [面白い, ツイート, 美容, ファッション, 頑張る, やっ, できる, フォロバ, 100]\n",
       "1187    [LFTA, ナイト, フォロバ, EpikWhale, tN, respect, t, Z...\n",
       "Name: description, Length: 1188, dtype: object"
      ]
     },
     "execution_count": 62,
     "metadata": {},
     "output_type": "execute_result"
    }
   ],
   "source": [
    "df.description.apply(extract_word, wakati=wakati)"
   ]
  },
  {
   "cell_type": "code",
   "execution_count": 166,
   "id": "fe769be6-6a05-4589-a9d4-d586d3eb6707",
   "metadata": {},
   "outputs": [],
   "source": [
    "from wordcloud import WordCloud\n",
    "\n",
    "\n",
    "wc = WordCloud(width=1920, height=1080,\n",
    "               font_path=\"../data/fonts/NotoSansJP-Bold.otf\",\n",
    "               max_words=500,\n",
    "               background_color=\"white\")"
   ]
  },
  {
   "cell_type": "code",
   "execution_count": 167,
   "id": "5913acc5-ddc0-4034-9a40-ddeac91e5df0",
   "metadata": {},
   "outputs": [
    {
     "data": {
      "text/plain": [
       "<wordcloud.wordcloud.WordCloud at 0x7f2bcf2ef190>"
      ]
     },
     "execution_count": 167,
     "metadata": {},
     "output_type": "execute_result"
    }
   ],
   "source": [
    "wc.generate(' '.join(list(kakedashi_df.description.apply(extract_word, wakati=wakati).explode().astype(str))))\n",
    "wc.to_file('../figures/df_1.png')\n",
    "wc.generate(' '.join(list(syoshinsya_df.description.apply(extract_word, wakati=wakati).explode().astype(str))))\n",
    "wc.to_file('../figures/df_2.png')"
   ]
  }
 ],
 "metadata": {
  "kernelspec": {
   "display_name": "Python 3 (ipykernel)",
   "language": "python",
   "name": "python3"
  },
  "language_info": {
   "codemirror_mode": {
    "name": "ipython",
    "version": 3
   },
   "file_extension": ".py",
   "mimetype": "text/x-python",
   "name": "python",
   "nbconvert_exporter": "python",
   "pygments_lexer": "ipython3",
   "version": "3.9.10"
  }
 },
 "nbformat": 4,
 "nbformat_minor": 5
}
